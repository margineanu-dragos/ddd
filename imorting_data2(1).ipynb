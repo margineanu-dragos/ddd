{
  "nbformat": 4,
  "nbformat_minor": 0,
  "metadata": {
    "colab": {
      "name": "imorting_data2(1).ipynb",
      "provenance": [],
      "collapsed_sections": [],
      "include_colab_link": true
    },
    "kernelspec": {
      "name": "python3",
      "display_name": "Python 3"
    }
  },
  "cells": [
    {
      "cell_type": "markdown",
      "metadata": {
        "id": "view-in-github",
        "colab_type": "text"
      },
      "source": [
        "<a href=\"https://colab.research.google.com/github/margineanu-dragos/ddd/blob/master/imorting_data2(1).ipynb\" target=\"_parent\"><img src=\"https://colab.research.google.com/assets/colab-badge.svg\" alt=\"Open In Colab\"/></a>"
      ]
    },
    {
      "cell_type": "code",
      "metadata": {
        "id": "ZAcQVacatcSd",
        "colab_type": "code",
        "colab": {}
      },
      "source": [
        "from urllib.request import urlretrieve"
      ],
      "execution_count": 0,
      "outputs": []
    },
    {
      "cell_type": "markdown",
      "metadata": {
        "id": "mZhftYqFxLfg",
        "colab_type": "text"
      },
      "source": [
        "**urllib.request** is a module defines functions and classes which help in opening URLs and **urlretrieve** is a function that meake a link between a file web and a file local"
      ]
    },
    {
      "cell_type": "code",
      "metadata": {
        "id": "HMhjMJOJwmaf",
        "colab_type": "code",
        "colab": {}
      },
      "source": [
        "import pandas as pd"
      ],
      "execution_count": 0,
      "outputs": []
    },
    {
      "cell_type": "code",
      "metadata": {
        "id": "bKyWMxgSwwOx",
        "colab_type": "code",
        "colab": {}
      },
      "source": [
        "url='https://s3.amazonaws.com/assets.datacamp.com/production/course_1606/datasets/winequality-red.csv'#the adress where is a csv file"
      ],
      "execution_count": 0,
      "outputs": []
    },
    {
      "cell_type": "code",
      "metadata": {
        "id": "zH7jYkQXwxCv",
        "colab_type": "code",
        "colab": {
          "base_uri": "https://localhost:8080/",
          "height": 34
        },
        "outputId": "3e166427-f072-4d62-dfc3-6b98c95e6bf7"
      },
      "source": [
        "urlretrieve(url, 'file.csv')#save a web file in a local file with"
      ],
      "execution_count": 5,
      "outputs": [
        {
          "output_type": "execute_result",
          "data": {
            "text/plain": [
              "('file.csv', <http.client.HTTPMessage at 0x7fe60734fef0>)"
            ]
          },
          "metadata": {
            "tags": []
          },
          "execution_count": 5
        }
      ]
    },
    {
      "cell_type": "code",
      "metadata": {
        "id": "B2OSbSJzw5LM",
        "colab_type": "code",
        "colab": {
          "base_uri": "https://localhost:8080/",
          "height": 153
        },
        "outputId": "e6211dc6-486a-49db-c83d-872faf3d8d9d"
      },
      "source": [
        "df=pd.read_csv('file.csv', sep=';')\n",
        "print(df.head())"
      ],
      "execution_count": 7,
      "outputs": [
        {
          "output_type": "stream",
          "text": [
            "   fixed acidity  volatile acidity  citric acid  ...  sulphates  alcohol  quality\n",
            "0            7.4              0.70         0.00  ...       0.56      9.4        5\n",
            "1            7.8              0.88         0.00  ...       0.68      9.8        5\n",
            "2            7.8              0.76         0.04  ...       0.65      9.8        5\n",
            "3           11.2              0.28         0.56  ...       0.58      9.8        6\n",
            "4            7.4              0.70         0.00  ...       0.56      9.4        5\n",
            "\n",
            "[5 rows x 12 columns]\n"
          ],
          "name": "stdout"
        }
      ]
    },
    {
      "cell_type": "code",
      "metadata": {
        "id": "PGOj5dKPxFOi",
        "colab_type": "code",
        "colab": {}
      },
      "source": [
        "df1=pd.read_csv(url, sep=';')#save a web file in a DataFrame without save in a local file"
      ],
      "execution_count": 0,
      "outputs": []
    },
    {
      "cell_type": "markdown",
      "metadata": {
        "id": "05Rg8stY4-Dg",
        "colab_type": "text"
      },
      "source": [
        "![alt text](https://drive.google.com/uc?id=1bVLXg99Ip_9Ufx04EcPWMju03HG1R1P5)"
      ]
    },
    {
      "cell_type": "code",
      "metadata": {
        "id": "xdGoNldZzbX4",
        "colab_type": "code",
        "colab": {}
      },
      "source": [
        "from urllib.request import urlopen, Request"
      ],
      "execution_count": 0,
      "outputs": []
    },
    {
      "cell_type": "code",
      "metadata": {
        "id": "tNbEDRqm5a3r",
        "colab_type": "code",
        "colab": {}
      },
      "source": [
        "url='https://www.wikipedia.org/'"
      ],
      "execution_count": 0,
      "outputs": []
    },
    {
      "cell_type": "code",
      "metadata": {
        "id": "s2RUtTAk5gEo",
        "colab_type": "code",
        "colab": {}
      },
      "source": [
        "request=Request(url)#get request\n",
        "response=urlopen(request)#get request again and catch the response\n",
        "print(type(response))#is a client http\n",
        "html=response.read()#the response is read\n",
        "response.close()\n",
        "print(html)"
      ],
      "execution_count": 0,
      "outputs": []
    },
    {
      "cell_type": "markdown",
      "metadata": {
        "id": "Jm4CWbkU94Cy",
        "colab_type": "text"
      },
      "source": [
        "![alt text](https://drive.google.com/uc?id=1v3Oxkr_avpTl0_iLiw0XiZhrUHzE1fQ3)"
      ]
    },
    {
      "cell_type": "code",
      "metadata": {
        "id": "ZTDy-kfS5nyG",
        "colab_type": "code",
        "colab": {}
      },
      "source": [
        "import requests# with pachet get request and catch the response \n",
        "url='http://www.datacamp.com/teach/documentation'\n",
        "r=requests.get(url)\n",
        "html_doc=r.text# is method through is read the content from response, so full source code in html"
      ],
      "execution_count": 0,
      "outputs": []
    },
    {
      "cell_type": "code",
      "metadata": {
        "id": "KpgdQHqf-T_T",
        "colab_type": "code",
        "colab": {}
      },
      "source": [
        "print(html_doc)#however, the result is terrible, you can't read anything, for that exist beautigul_soup\n"
      ],
      "execution_count": 0,
      "outputs": []
    },
    {
      "cell_type": "code",
      "metadata": {
        "id": "sxlfNpOGCyFi",
        "colab_type": "code",
        "colab": {}
      },
      "source": [
        ""
      ],
      "execution_count": 0,
      "outputs": []
    },
    {
      "cell_type": "markdown",
      "metadata": {
        "id": "2WUCd1RXD55d",
        "colab_type": "text"
      },
      "source": [
        "![alt text](https://drive.google.com/uc?id=1nmZ4RRVrzt85in6Al5-xY0x8RVM0GJ5O)"
      ]
    },
    {
      "cell_type": "code",
      "metadata": {
        "id": "g_DlwC5kEBpu",
        "colab_type": "code",
        "colab": {}
      },
      "source": [
        "from bs4 import BeautifulSoup"
      ],
      "execution_count": 0,
      "outputs": []
    },
    {
      "cell_type": "code",
      "metadata": {
        "id": "kbMBuuwMEIOt",
        "colab_type": "code",
        "colab": {}
      },
      "source": [
        "soup=BeautifulSoup(html_doc)"
      ],
      "execution_count": 0,
      "outputs": []
    },
    {
      "cell_type": "code",
      "metadata": {
        "id": "McRsUlgZEW86",
        "colab_type": "code",
        "colab": {}
      },
      "source": [
        "print(soup.prettify())# now the result is orderly, beautiful_soup make cleaning in html source code and provides much methode for various searches\n"
      ],
      "execution_count": 0,
      "outputs": []
    },
    {
      "cell_type": "code",
      "metadata": {
        "id": "enTqSrzdEhw4",
        "colab_type": "code",
        "colab": {}
      },
      "source": [
        "title=soup.title# after what soup was creted, you can yill use for get differed things, here we extract the title \n",
        "text=soup.get_text()# here we extract the texts from sites"
      ],
      "execution_count": 0,
      "outputs": []
    },
    {
      "cell_type": "code",
      "metadata": {
        "id": "5OQnbWCVvlOD",
        "colab_type": "code",
        "colab": {}
      },
      "source": [
        ""
      ],
      "execution_count": 0,
      "outputs": []
    },
    {
      "cell_type": "markdown",
      "metadata": {
        "id": "r6fUe-cDyQGo",
        "colab_type": "text"
      },
      "source": [
        "![alt text](https://drive.google.com/uc?id=16aej5c5ui6EPDvjOtwgYjgbG5LSGAHPN)"
      ]
    },
    {
      "cell_type": "code",
      "metadata": {
        "id": "CF7oFE4syTrG",
        "colab_type": "code",
        "colab": {}
      },
      "source": [
        "for link in soup.find_all('a'): # and so are extreacted the link from sait\n",
        "  print(link.get('href'))"
      ],
      "execution_count": 0,
      "outputs": []
    },
    {
      "cell_type": "code",
      "metadata": {
        "id": "9smLOQyuygJ-",
        "colab_type": "code",
        "colab": {}
      },
      "source": [
        ""
      ],
      "execution_count": 0,
      "outputs": []
    },
    {
      "cell_type": "markdown",
      "metadata": {
        "id": "KVqQKWM6y9ir",
        "colab_type": "text"
      },
      "source": [
        "# thr most important thing are:\n",
        "\n",
        "\n",
        "\n",
        "#open with pandas a csv right from web\n",
        "```\n",
        "df=pd.read_csv('file.csv', sep=';')\n",
        "```\n",
        "\n",
        "#ger a request for a web page\n",
        "```\n",
        "import requests\n",
        "\n",
        "url='http://www.datacamp.com/teach/documentation'\n",
        "\n",
        "r=requests.get(url)\n",
        "\n",
        "html_doc=r.text\n",
        "```\n",
        "# get a requests from a web page and catch the respouns\n",
        "```\n",
        "import requests\n",
        "\n",
        "url='http://www.datacamp.com/teach/documentation'\n",
        "\n",
        "r=requests.get(url)\n",
        "\n",
        "html_doc=r.text\n",
        "```\n",
        "\n",
        "# the beautifoul soup make the earlyer respuns much nice annd offer method fro extrad things\n",
        "```\n",
        "from bs4 import BeautifulSoup\n",
        "\n",
        "soup=BeautifulSoup(html_doc)\n",
        "\n",
        "print(soup.prettify())\n",
        "\n",
        "```\n",
        "\n",
        "\n"
      ]
    },
    {
      "cell_type": "code",
      "metadata": {
        "id": "R9HTWh4k0Fxk",
        "colab_type": "code",
        "colab": {}
      },
      "source": [
        ""
      ],
      "execution_count": 0,
      "outputs": []
    }
  ]
}