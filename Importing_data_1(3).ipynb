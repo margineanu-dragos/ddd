{
  "nbformat": 4,
  "nbformat_minor": 0,
  "metadata": {
    "colab": {
      "name": "Importing_data_1(3).ipynb",
      "provenance": [],
      "include_colab_link": true
    },
    "kernelspec": {
      "name": "python3",
      "display_name": "Python 3"
    }
  },
  "cells": [
    {
      "cell_type": "markdown",
      "metadata": {
        "id": "view-in-github",
        "colab_type": "text"
      },
      "source": [
        "<a href=\"https://colab.research.google.com/github/margineanu-dragos/ddd/blob/master/Importing_data_1(3).ipynb\" target=\"_parent\"><img src=\"https://colab.research.google.com/assets/colab-badge.svg\" alt=\"Open In Colab\"/></a>"
      ]
    },
    {
      "cell_type": "code",
      "metadata": {
        "id": "nt8NAQj7jwUg",
        "colab_type": "code",
        "colab": {}
      },
      "source": [
        "import pandas as pd"
      ],
      "execution_count": 0,
      "outputs": []
    },
    {
      "cell_type": "code",
      "metadata": {
        "id": "eAFTxBq7Iili",
        "colab_type": "code",
        "colab": {}
      },
      "source": [
        "!pip install -U -q PyDrive\n",
        "from pydrive.auth import GoogleAuth\n",
        "from pydrive.drive import GoogleDrive\n",
        "from google.colab import auth\n",
        "from oauth2client.client import GoogleCredentials"
      ],
      "execution_count": 0,
      "outputs": []
    },
    {
      "cell_type": "code",
      "metadata": {
        "id": "NPsl83fJJ0ol",
        "colab_type": "code",
        "colab": {}
      },
      "source": [
        "auth.authenticate_user()\n",
        "gauth = GoogleAuth()\n",
        "gauth.credentials = GoogleCredentials.get_application_default()\n",
        "drive = GoogleDrive(gauth)"
      ],
      "execution_count": 0,
      "outputs": []
    },
    {
      "cell_type": "code",
      "metadata": {
        "id": "KLy7wqdhSPpS",
        "colab_type": "code",
        "colab": {}
      },
      "source": [
        "downloaded = drive.CreateFile({'id':'1K1ALDwx56OhLDMfTWnkLii65bApK_gKf'}) \n",
        "downloaded.GetContentFile('Chinook_Sqlite.sqlite')"
      ],
      "execution_count": 0,
      "outputs": []
    },
    {
      "cell_type": "code",
      "metadata": {
        "id": "VOXFYJlIIU4n",
        "colab_type": "code",
        "colab": {}
      },
      "source": [
        "from sqlalchemy import create_engine"
      ],
      "execution_count": 0,
      "outputs": []
    },
    {
      "cell_type": "markdown",
      "metadata": {
        "id": "Nx1k5_2TVIOU",
        "colab_type": "text"
      },
      "source": [
        "**sqlalchemy** is a **pachet** for work with **sqlite** and **create_engine** will create a link with databases"
      ]
    },
    {
      "cell_type": "code",
      "metadata": {
        "id": "iQEUQim-TCVl",
        "colab_type": "code",
        "colab": {}
      },
      "source": [
        "engine = create_engine('sqlite:///Chinook_Sqlite.sqlite')"
      ],
      "execution_count": 0,
      "outputs": []
    },
    {
      "cell_type": "markdown",
      "metadata": {
        "id": "R-5WXp1aXxQU",
        "colab_type": "text"
      },
      "source": [
        "now, the databases bears the name of **engine** and it may be used"
      ]
    },
    {
      "cell_type": "code",
      "metadata": {
        "id": "Qnc5_r2vTHYX",
        "colab_type": "code",
        "colab": {
          "base_uri": "https://localhost:8080/",
          "height": 34
        },
        "outputId": "008a2254-c446-430e-fe35-eeb53a1f5990"
      },
      "source": [
        "print(engine.table_names())"
      ],
      "execution_count": 17,
      "outputs": [
        {
          "output_type": "stream",
          "text": [
            "['Album', 'Artist', 'Customer', 'Employee', 'Genre', 'Invoice', 'InvoiceLine', 'MediaType', 'Playlist', 'PlaylistTrack', 'Track']\n"
          ],
          "name": "stdout"
        }
      ]
    },
    {
      "cell_type": "markdown",
      "metadata": {
        "id": "zOjW72oGYoU8",
        "colab_type": "text"
      },
      "source": [
        "for to find out the names of the table insaid data bases is used methods **.table_names()**"
      ]
    },
    {
      "cell_type": "markdown",
      "metadata": {
        "id": "O0pFaNnWdTc7",
        "colab_type": "text"
      },
      "source": [
        "![alt text](https://drive.google.com/uc?id=1vkjM_7B-DinkftWxjwgTv1bvCnrfoWIM)"
      ]
    },
    {
      "cell_type": "markdown",
      "metadata": {
        "id": "MoMPXv95eZxm",
        "colab_type": "text"
      },
      "source": [
        "**engine.connect** cretae a manager that allow apply comands form sql in python  and then with **.execute** apply **queries**. rs is a picee from data_bases and then will save it in a DataFrame with method **.fetchmany()** and size represents who row will be imported or **fetchall()** that import all rows."
      ]
    },
    {
      "cell_type": "code",
      "metadata": {
        "id": "paLEEgHDYWCw",
        "colab_type": "code",
        "colab": {}
      },
      "source": [
        "with engine.connect() as con:\n",
        "  rs=con.execute('select * from Artist where ArtistId>=3 order by Name')\n",
        "  df=pd.DataFrame(rs.fetchall())\n",
        "  df.columns=rs.keys()"
      ],
      "execution_count": 0,
      "outputs": []
    },
    {
      "cell_type": "markdown",
      "metadata": {
        "id": "2c1btY8JmOg0",
        "colab_type": "text"
      },
      "source": [
        "**WHERE**  is the way conditions are applied and **ORDER BY** who the results is ordely"
      ]
    },
    {
      "cell_type": "code",
      "metadata": {
        "id": "I4_-2XCMmKmY",
        "colab_type": "code",
        "colab": {}
      },
      "source": [
        ""
      ],
      "execution_count": 0,
      "outputs": []
    },
    {
      "cell_type": "code",
      "metadata": {
        "id": "rFWzGGpLXwn2",
        "colab_type": "code",
        "colab": {
          "base_uri": "https://localhost:8080/",
          "height": 119
        },
        "outputId": "69b2aa71-99dc-4a45-9cf5-f3e5704e6e3b"
      },
      "source": [
        "print(df.head())"
      ],
      "execution_count": 26,
      "outputs": [
        {
          "output_type": "stream",
          "text": [
            "   ArtistId                                               Name\n",
            "0        43                                       A Cor Do Som\n",
            "1       230          Aaron Copland & London Symphony Orchestra\n",
            "2       202                                     Aaron Goldberg\n",
            "3       214  Academy of St. Martin in the Fields & Sir Nevi...\n",
            "4       215  Academy of St. Martin in the Fields Chamber En...\n"
          ],
          "name": "stdout"
        }
      ]
    },
    {
      "cell_type": "markdown",
      "metadata": {
        "id": "q4QhqszmtVKz",
        "colab_type": "text"
      },
      "source": [
        "![alt text](https://drive.google.com/uc?id=1_iANiZme3vhqjVb5jZlwRefHeHpBygXC)"
      ]
    },
    {
      "cell_type": "code",
      "metadata": {
        "id": "yHxwYaqLTmi6",
        "colab_type": "code",
        "colab": {}
      },
      "source": [
        "df1=pd.read_sql_query('select *  from Artist', engine)#ceam mai importanta linie, cu pandas se poate interoga direct fara fisiere intermediara\n",
        "#intre ghilimele se poate tasta orice iterogare, iar al doilea argument il reprezinta baza de bate"
      ],
      "execution_count": 0,
      "outputs": []
    },
    {
      "cell_type": "markdown",
      "metadata": {
        "id": "y6vrKyrotijL",
        "colab_type": "text"
      },
      "source": [
        "with **.read_sql_query** pandas can exectute sql comands without connect, in one line"
      ]
    },
    {
      "cell_type": "code",
      "metadata": {
        "id": "18FBPPT3uBCN",
        "colab_type": "code",
        "colab": {
          "base_uri": "https://localhost:8080/",
          "height": 119
        },
        "outputId": "408a7a6e-e6f8-4d67-ff41-27f40fe4d908"
      },
      "source": [
        "print(df1.head())"
      ],
      "execution_count": 32,
      "outputs": [
        {
          "output_type": "stream",
          "text": [
            "   ArtistId               Name\n",
            "0         1              AC/DC\n",
            "1         2             Accept\n",
            "2         3          Aerosmith\n",
            "3         4  Alanis Morissette\n",
            "4         5    Alice In Chains\n"
          ],
          "name": "stdout"
        }
      ]
    },
    {
      "cell_type": "code",
      "metadata": {
        "id": "NecqhUO6uJdc",
        "colab_type": "code",
        "colab": {}
      },
      "source": [
        ""
      ],
      "execution_count": 0,
      "outputs": []
    }
  ]
}